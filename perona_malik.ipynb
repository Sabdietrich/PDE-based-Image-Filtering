{
 "cells": [
  {
   "cell_type": "code",
   "execution_count": 2,
   "id": "f2d18cfc",
   "metadata": {},
   "outputs": [],
   "source": [
    "import numpy as np\n",
    "\n",
    "def perona_malik(u0, dt, iterations, g_type, K):\n",
    "    #image dimensions\n",
    "    ny, nx = u0.shape\n",
    "    \n",
    "    # Matrix to store the updated image\n",
    "    u = np.copy(u0)\n",
    "    \n",
    "    # Definition of the conduction function \n",
    "    if g_type == 'gaussian':\n",
    "        g = lambda x: np.exp(-(x / K)**2)\n",
    "    elif g_type == 'lorentzian':\n",
    "        g = lambda x: 1 / (1 + (x / K)**2)\n",
    "    \n",
    "    # Calculation of the maximum time step \n",
    "    max_dt = 1 / (4 * (1 / nx**2 + 1 / ny**2))\n",
    "    if dt > max_dt:\n",
    "        print(f\"too big time step\")\n",
    "        return u\n",
    "    \n",
    "    # Iterations of the finite difference scheme\n",
    "    for _ in range(iterations):\n",
    "        Dx_plus = np.roll(u, -1, axis=1) - u\n",
    "        Dx_minus = u - np.roll(u, 1, axis=1)\n",
    "        Dy_plus = np.roll(u, -1, axis=0) - u\n",
    "        Dy_minus = u - np.roll(u, 1, axis=0)\n",
    "        ge = g(Dx_plus)\n",
    "        gw = g(Dx_minus)\n",
    "        gs = g(Dy_plus)\n",
    "        gn = g(Dy_minus)\n",
    "        sigma = ge + gw + gs + gn\n",
    "        u += dt * (ge * Dx_plus + gw * Dx_minus + gs * Dy_plus + gn * Dy_minus - sigma * u)\n",
    "    \n",
    "    return u\n"
   ]
  },
  {
   "cell_type": "code",
   "execution_count": null,
   "id": "c0018b62",
   "metadata": {},
   "outputs": [],
   "source": [
    "from google.colab import drive\n",
    "drive.mount('/content/drive')"
   ]
  },
  {
   "cell_type": "code",
   "execution_count": 3,
   "id": "0de96e36",
   "metadata": {},
   "outputs": [
    {
     "ename": "UFuncTypeError",
     "evalue": "Cannot cast ufunc 'add' output from dtype('float64') to dtype('uint8') with casting rule 'same_kind'",
     "output_type": "error",
     "traceback": [
      "\u001b[1;31m---------------------------------------------------------------------------\u001b[0m",
      "\u001b[1;31mUFuncTypeError\u001b[0m                            Traceback (most recent call last)",
      "\u001b[1;32m~\\AppData\\Local\\Temp/ipykernel_1696/3427642129.py\u001b[0m in \u001b[0;36m<module>\u001b[1;34m\u001b[0m\n\u001b[0;32m     19\u001b[0m \u001b[0mK\u001b[0m \u001b[1;33m=\u001b[0m \u001b[1;36m10\u001b[0m\u001b[1;33m\u001b[0m\u001b[1;33m\u001b[0m\u001b[0m\n\u001b[0;32m     20\u001b[0m \u001b[1;33m\u001b[0m\u001b[0m\n\u001b[1;32m---> 21\u001b[1;33m \u001b[0mprocessed_image\u001b[0m \u001b[1;33m=\u001b[0m \u001b[0mperona_malik\u001b[0m\u001b[1;33m(\u001b[0m\u001b[0mu0\u001b[0m\u001b[1;33m,\u001b[0m \u001b[0mdt\u001b[0m\u001b[1;33m,\u001b[0m \u001b[0miterations\u001b[0m\u001b[1;33m,\u001b[0m \u001b[0mg_type\u001b[0m\u001b[1;33m,\u001b[0m \u001b[0mK\u001b[0m\u001b[1;33m)\u001b[0m\u001b[1;33m\u001b[0m\u001b[1;33m\u001b[0m\u001b[0m\n\u001b[0m\u001b[0;32m     22\u001b[0m \u001b[1;33m\u001b[0m\u001b[0m\n\u001b[0;32m     23\u001b[0m \u001b[0moutput_path\u001b[0m \u001b[1;33m=\u001b[0m \u001b[0mresultdir\u001b[0m \u001b[1;33m+\u001b[0m \u001b[0mfilename_out\u001b[0m\u001b[1;33m\u001b[0m\u001b[1;33m\u001b[0m\u001b[0m\n",
      "\u001b[1;32m~\\AppData\\Local\\Temp/ipykernel_1696/2873152020.py\u001b[0m in \u001b[0;36mperona_malik\u001b[1;34m(u0, dt, iterations, g_type, K)\u001b[0m\n\u001b[0;32m     31\u001b[0m         \u001b[0mgn\u001b[0m \u001b[1;33m=\u001b[0m \u001b[0mg\u001b[0m\u001b[1;33m(\u001b[0m\u001b[0mDy_minus\u001b[0m\u001b[1;33m)\u001b[0m\u001b[1;33m\u001b[0m\u001b[1;33m\u001b[0m\u001b[0m\n\u001b[0;32m     32\u001b[0m         \u001b[0msigma\u001b[0m \u001b[1;33m=\u001b[0m \u001b[0mge\u001b[0m \u001b[1;33m+\u001b[0m \u001b[0mgw\u001b[0m \u001b[1;33m+\u001b[0m \u001b[0mgs\u001b[0m \u001b[1;33m+\u001b[0m \u001b[0mgn\u001b[0m\u001b[1;33m\u001b[0m\u001b[1;33m\u001b[0m\u001b[0m\n\u001b[1;32m---> 33\u001b[1;33m         \u001b[0mu\u001b[0m \u001b[1;33m+=\u001b[0m \u001b[0mdt\u001b[0m \u001b[1;33m*\u001b[0m \u001b[1;33m(\u001b[0m\u001b[0mge\u001b[0m \u001b[1;33m*\u001b[0m \u001b[0mDx_plus\u001b[0m \u001b[1;33m+\u001b[0m \u001b[0mgw\u001b[0m \u001b[1;33m*\u001b[0m \u001b[0mDx_minus\u001b[0m \u001b[1;33m+\u001b[0m \u001b[0mgs\u001b[0m \u001b[1;33m*\u001b[0m \u001b[0mDy_plus\u001b[0m \u001b[1;33m+\u001b[0m \u001b[0mgn\u001b[0m \u001b[1;33m*\u001b[0m \u001b[0mDy_minus\u001b[0m \u001b[1;33m-\u001b[0m \u001b[0msigma\u001b[0m \u001b[1;33m*\u001b[0m \u001b[0mu\u001b[0m\u001b[1;33m)\u001b[0m\u001b[1;33m\u001b[0m\u001b[1;33m\u001b[0m\u001b[0m\n\u001b[0m\u001b[0;32m     34\u001b[0m \u001b[1;33m\u001b[0m\u001b[0m\n\u001b[0;32m     35\u001b[0m     \u001b[1;32mreturn\u001b[0m \u001b[0mu\u001b[0m\u001b[1;33m\u001b[0m\u001b[1;33m\u001b[0m\u001b[0m\n",
      "\u001b[1;31mUFuncTypeError\u001b[0m: Cannot cast ufunc 'add' output from dtype('float64') to dtype('uint8') with casting rule 'same_kind'"
     ]
    }
   ],
   "source": [
    "import cv2\n",
    "# Exemple d'utilisation\n",
    "# - Image directory\n",
    "imagedir = \"/content/drive/MyDrive/Images\"\n",
    "\n",
    "# - Processed image directory\n",
    "resultdir = \"/content/drive/MyDrive/Results\"\n",
    "\n",
    "# - Input image\n",
    "filename_in = \"graf1.png\"\n",
    "\n",
    "# - Output image\n",
    "filename_out = filename_in.split('.')[0] + \"-results.pgm\"\n",
    "\n",
    "u0 = cv2.imread(imagedir + filename_in, cv2.IMREAD_GRAYSCALE)\n",
    "dt = 0.1\n",
    "iterations = 100\n",
    "g_type = 'gaussian'\n",
    "K = 10\n",
    "\n",
    "processed_image = perona_malik(u0, dt, iterations, g_type, K)\n",
    "\n",
    "output_path = resultdir + filename_out\n",
    "cv2.imwrite(output_path, processed_image)\n",
    "\n",
    "print(f\"The processed image has been saved as {output_path}.\")"
   ]
  },
  {
   "cell_type": "code",
   "execution_count": null,
   "id": "ae4b958c",
   "metadata": {},
   "outputs": [],
   "source": []
  }
 ],
 "metadata": {
  "kernelspec": {
   "display_name": "Python 3 (ipykernel)",
   "language": "python",
   "name": "python3"
  },
  "language_info": {
   "codemirror_mode": {
    "name": "ipython",
    "version": 3
   },
   "file_extension": ".py",
   "mimetype": "text/x-python",
   "name": "python",
   "nbconvert_exporter": "python",
   "pygments_lexer": "ipython3",
   "version": "3.9.5"
  }
 },
 "nbformat": 4,
 "nbformat_minor": 5
}
