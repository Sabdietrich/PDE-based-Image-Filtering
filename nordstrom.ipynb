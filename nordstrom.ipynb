{
 "cells": [
  {
   "cell_type": "code",
   "execution_count": 3,
   "id": "53216355",
   "metadata": {},
   "outputs": [
    {
     "name": "stdout",
     "output_type": "stream",
     "text": [
      "Requirement already satisfied: Pillow in c:\\users\\sabri\\.julia\\conda\\3\\lib\\site-packages (9.5.0)\n",
      "Note: you may need to restart the kernel to use updated packages.\n"
     ]
    }
   ],
   "source": [
    "pip install Pillow"
   ]
  },
  {
   "cell_type": "code",
   "execution_count": 6,
   "id": "4777c717",
   "metadata": {},
   "outputs": [],
   "source": [
    "import numpy as np\n",
    "import cv2\n",
    "\n",
    "def nordstrom(u0, dt, iterations, g_type, K):\n",
    "    u = u0.astype(np.float64)\n",
    "    \n",
    "    # Definition of the conduction function \n",
    "    if g_type == 'gaussian':\n",
    "        g = lambda x: np.exp(-(x / K)**2)\n",
    "    elif g_type == 'lorentzian':\n",
    "        g = lambda x: 1 / (1 + (x / K)**2)\n",
    "    \n",
    "    # Calculation of the maximum time step \n",
    "    max_dt = 1 / (4 * (1 / u.shape[1]**2 + 1 / u.shape[0]**2))\n",
    "    if dt > max_dt:\n",
    "        print(f\"Too big time step\")\n",
    "        return u\n",
    "    \n",
    "    # Iterations of the finite difference scheme\n",
    "    for _ in range(iterations):\n",
    "        Dx_plus = np.roll(u, -1, axis=1) - u\n",
    "        Dx_minus = u - np.roll(u, 1, axis=1)\n",
    "        Dy_plus = np.roll(u, -1, axis=0) - u\n",
    "        Dy_minus = u - np.roll(u, 1, axis=0)\n",
    "        ge = g(Dx_plus)\n",
    "        gw = g(Dx_minus)\n",
    "        gs = g(Dy_plus)\n",
    "        gn = g(Dy_minus)\n",
    "        sigma = ge + gw + gs + gn\n",
    "        weight = 5\n",
    "        alpha = weight * (u0 - u)\n",
    "        u += dt * (ge * Dx_plus + gw * Dx_minus + gs * Dy_plus + gn * Dy_minus + alpha) / sigma\n",
    "        \n",
    "        # Clip the values to [0, 255] range\n",
    "        u = np.clip(u, 0, 255)\n",
    "    \n",
    "    return u.astype(np.uint8)\n"
   ]
  },
  {
   "cell_type": "code",
   "execution_count": null,
   "id": "d4cf9b26",
   "metadata": {},
   "outputs": [],
   "source": [
    "from google.colab import drive\n",
    "drive.mount('/content/drive')"
   ]
  },
  {
   "cell_type": "code",
   "execution_count": 8,
   "id": "4e895ec1",
   "metadata": {},
   "outputs": [
    {
     "name": "stdout",
     "output_type": "stream",
     "text": [
      "The processed image has been saved as C:\\Users\\sabri\\Downloads\\Lab_imag\\Python\\Notebooks\\Results\\graf1-results.pgm.\n"
     ]
    }
   ],
   "source": [
    "import cv2\n",
    "# Exemple d'utilisation\n",
    "# - Image directory\n",
    "imagedir = \"/content/drive/MyDrive/Images\"\n",
    "\n",
    "# - Processed image directory\n",
    "resultdir = \"/content/drive/MyDrive/Results\"\n",
    "\n",
    "# - Input image\n",
    "filename_in = \"graf1.png\"\n",
    "\n",
    "# - Output image\n",
    "filename_out = filename_in.split('.')[0] + \"-results.pgm\"\n",
    "\n",
    "u0 = cv2.imread(imagedir + filename_in, cv2.IMREAD_GRAYSCALE)\n",
    "dt = 0.1\n",
    "iterations = 100\n",
    "g_type = 'gaussian'\n",
    "K = 10\n",
    "\n",
    "processed_image = nordstrom(u0, dt, iterations, g_type, K)\n",
    "\n",
    "output_path = resultdir + filename_out\n",
    "cv2.imwrite(output_path, processed_image)\n",
    "\n",
    "print(f\"The processed image has been saved as {output_path}.\")"
   ]
  },
  {
   "cell_type": "code",
   "execution_count": null,
   "id": "e940b423",
   "metadata": {},
   "outputs": [],
   "source": []
  }
 ],
 "metadata": {
  "kernelspec": {
   "display_name": "Python 3 (ipykernel)",
   "language": "python",
   "name": "python3"
  },
  "language_info": {
   "codemirror_mode": {
    "name": "ipython",
    "version": 3
   },
   "file_extension": ".py",
   "mimetype": "text/x-python",
   "name": "python",
   "nbconvert_exporter": "python",
   "pygments_lexer": "ipython3",
   "version": "3.9.5"
  }
 },
 "nbformat": 4,
 "nbformat_minor": 5
}
